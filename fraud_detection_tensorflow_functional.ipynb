{
  "nbformat": 4,
  "nbformat_minor": 0,
  "metadata": {
    "colab": {
      "provenance": []
    },
    "kernelspec": {
      "name": "python3",
      "display_name": "Python 3"
    },
    "language_info": {
      "name": "python"
    }
  },
  "cells": [
    {
      "cell_type": "code",
      "execution_count": 4,
      "metadata": {
        "id": "vJBAlDE_jcFK"
      },
      "outputs": [],
      "source": [
        "import tensorflow as tf\n",
        "import pandas as pd\n",
        "import numpy as np\n",
        "import seaborn as sns\n",
        "import matplotlib.pyplot as plt\n",
        "from sklearn.model_selection import train_test_split\n",
        "from sklearn.metrics import roc_auc_score, confusion_matrix, classification_report"
      ]
    },
    {
      "cell_type": "code",
      "source": [
        "df = pd.read_csv('/content/creditcard.csv')\n",
        "df['Amount_log'] = np.log1p(df['Amount'])\n",
        "df.drop(['Time', 'Amount'], axis=1, inplace=True)"
      ],
      "metadata": {
        "id": "Lb609cgvkjNw"
      },
      "execution_count": 5,
      "outputs": []
    },
    {
      "cell_type": "code",
      "source": [
        "X = df.drop('Class', axis=1)\n",
        "y = df['Class']"
      ],
      "metadata": {
        "id": "bPt1hjiulP6N"
      },
      "execution_count": 6,
      "outputs": []
    },
    {
      "cell_type": "code",
      "source": [
        "X_train, X_temp, y_train, y_temp = train_test_split(X, y, test_size=0.3, stratify=y, random_state=42)\n",
        "X_val, X_test, y_val, y_test = train_test_split(X_temp, y_temp, test_size=0.5, stratify=y_temp, random_state=42)"
      ],
      "metadata": {
        "id": "rC9wwUQ7meZU"
      },
      "execution_count": 7,
      "outputs": []
    },
    {
      "cell_type": "code",
      "source": [
        "def make_dataset(X, y, batch_size=2048, shuffle=True):\n",
        "    ds = tf.data.Dataset.from_tensor_slices((dict(X), y))\n",
        "    if shuffle:\n",
        "        ds = ds.shuffle(buffer_size=len(X))\n",
        "    return ds.batch(batch_size).prefetch(tf.data.AUTOTUNE)"
      ],
      "metadata": {
        "id": "Jy6-Q5X2miUX"
      },
      "execution_count": 8,
      "outputs": []
    },
    {
      "cell_type": "code",
      "source": [
        "train_ds = make_dataset(X_train, y_train)\n",
        "val_ds = make_dataset(X_val, y_val, shuffle=False)\n",
        "test_ds = make_dataset(X_test, y_test, shuffle=False)"
      ],
      "metadata": {
        "id": "waZvfidvmmN1"
      },
      "execution_count": 9,
      "outputs": []
    },
    {
      "cell_type": "code",
      "source": [
        "all_inputs = []\n",
        "encoded_features = []"
      ],
      "metadata": {
        "id": "Qjhc6Db6moXn"
      },
      "execution_count": 15,
      "outputs": []
    },
    {
      "cell_type": "code",
      "source": [
        "for col in X.columns:\n",
        "    numeric_col = tf.keras.Input(shape=(1,), name=col)\n",
        "    normalization_layer = tf.keras.layers.Normalization()\n",
        "    normalization_layer.adapt(np.array(X_train[col]).reshape(-1, 1))  # fit only on train\n",
        "    encoded_col = normalization_layer(numeric_col)\n",
        "    all_inputs.append(numeric_col)\n",
        "    encoded_features.append(encoded_col)"
      ],
      "metadata": {
        "id": "VcPKcooZmqfk"
      },
      "execution_count": 16,
      "outputs": []
    },
    {
      "cell_type": "code",
      "source": [
        "all_features = tf.keras.layers.concatenate(encoded_features)"
      ],
      "metadata": {
        "id": "dhiU5WUVrByQ"
      },
      "execution_count": 17,
      "outputs": []
    },
    {
      "cell_type": "code",
      "source": [
        "x = tf.keras.layers.Dense(128, activation='relu')(all_features)\n",
        "x = tf.keras.layers.BatchNormalization()(x)\n",
        "x = tf.keras.layers.Dropout(0.5)(x)\n",
        "x = tf.keras.layers.Dense(64, activation='relu')(x)\n",
        "x = tf.keras.layers.Dropout(0.3)(x)\n",
        "output = tf.keras.layers.Dense(1, activation='sigmoid')(x)"
      ],
      "metadata": {
        "id": "r-fpB9TRrDrK"
      },
      "execution_count": 30,
      "outputs": []
    },
    {
      "cell_type": "code",
      "source": [
        "model = tf.keras.Model(inputs=all_inputs, outputs=output)"
      ],
      "metadata": {
        "id": "n6Ux3l4NrHCu"
      },
      "execution_count": 31,
      "outputs": []
    },
    {
      "cell_type": "code",
      "source": [
        "model.compile(\n",
        "    optimizer=tf.keras.optimizers.Adam(learning_rate=1e-3),\n",
        "    loss='binary_crossentropy',\n",
        "    metrics=[\n",
        "        tf.keras.metrics.Precision(),\n",
        "        tf.keras.metrics.Recall(),\n",
        "        tf.keras.metrics.AUC(name='auc')\n",
        "    ]\n",
        ")"
      ],
      "metadata": {
        "id": "R8gkxeW8rH9F"
      },
      "execution_count": 32,
      "outputs": []
    },
    {
      "cell_type": "code",
      "source": [
        "early_stop = tf.keras.callbacks.EarlyStopping(\n",
        "    monitor='val_auc',\n",
        "    patience=10,\n",
        "    mode='max',\n",
        "    restore_best_weights=True\n",
        ")"
      ],
      "metadata": {
        "id": "OmBW5pKMrKMR"
      },
      "execution_count": 33,
      "outputs": []
    },
    {
      "cell_type": "code",
      "source": [
        "history = model.fit(\n",
        "    train_ds,\n",
        "    validation_data=val_ds,\n",
        "    epochs=100,\n",
        "    callbacks=[early_stop],\n",
        "    verbose=1\n",
        ")"
      ],
      "metadata": {
        "colab": {
          "base_uri": "https://localhost:8080/"
        },
        "id": "CnHE7U9JrL_H",
        "outputId": "531cb2cd-d10b-4f74-f5fe-1ba6a7cf978d"
      },
      "execution_count": 34,
      "outputs": [
        {
          "output_type": "stream",
          "name": "stdout",
          "text": [
            "Epoch 1/100\n",
            "\u001b[1m98/98\u001b[0m \u001b[32m━━━━━━━━━━━━━━━━━━━━\u001b[0m\u001b[37m\u001b[0m \u001b[1m11s\u001b[0m 71ms/step - auc: 0.6330 - loss: 0.3971 - precision_2: 0.0071 - recall_2: 0.4889 - val_auc: 0.8099 - val_loss: 0.0877 - val_precision_2: 0.7313 - val_recall_2: 0.6622\n",
            "Epoch 2/100\n",
            "\u001b[1m98/98\u001b[0m \u001b[32m━━━━━━━━━━━━━━━━━━━━\u001b[0m\u001b[37m\u001b[0m \u001b[1m8s\u001b[0m 65ms/step - auc: 0.8332 - loss: 0.0219 - precision_2: 0.4612 - recall_2: 0.5431 - val_auc: 0.8897 - val_loss: 0.0174 - val_precision_2: 0.7123 - val_recall_2: 0.7027\n",
            "Epoch 3/100\n",
            "\u001b[1m98/98\u001b[0m \u001b[32m━━━━━━━━━━━━━━━━━━━━\u001b[0m\u001b[37m\u001b[0m \u001b[1m8s\u001b[0m 62ms/step - auc: 0.9158 - loss: 0.0112 - precision_2: 0.6338 - recall_2: 0.6022 - val_auc: 0.9088 - val_loss: 0.0071 - val_precision_2: 0.7391 - val_recall_2: 0.6892\n",
            "Epoch 4/100\n",
            "\u001b[1m98/98\u001b[0m \u001b[32m━━━━━━━━━━━━━━━━━━━━\u001b[0m\u001b[37m\u001b[0m \u001b[1m7s\u001b[0m 57ms/step - auc: 0.9241 - loss: 0.0083 - precision_2: 0.7983 - recall_2: 0.6749 - val_auc: 0.9037 - val_loss: 0.0056 - val_precision_2: 0.7534 - val_recall_2: 0.7432\n",
            "Epoch 5/100\n",
            "\u001b[1m98/98\u001b[0m \u001b[32m━━━━━━━━━━━━━━━━━━━━\u001b[0m\u001b[37m\u001b[0m \u001b[1m8s\u001b[0m 58ms/step - auc: 0.9304 - loss: 0.0066 - precision_2: 0.8330 - recall_2: 0.6835 - val_auc: 0.9111 - val_loss: 0.0047 - val_precision_2: 0.7534 - val_recall_2: 0.7432\n",
            "Epoch 6/100\n",
            "\u001b[1m98/98\u001b[0m \u001b[32m━━━━━━━━━━━━━━━━━━━━\u001b[0m\u001b[37m\u001b[0m \u001b[1m8s\u001b[0m 66ms/step - auc: 0.9305 - loss: 0.0062 - precision_2: 0.7833 - recall_2: 0.6853 - val_auc: 0.9114 - val_loss: 0.0045 - val_precision_2: 0.7568 - val_recall_2: 0.7568\n",
            "Epoch 7/100\n",
            "\u001b[1m98/98\u001b[0m \u001b[32m━━━━━━━━━━━━━━━━━━━━\u001b[0m\u001b[37m\u001b[0m \u001b[1m7s\u001b[0m 52ms/step - auc: 0.9214 - loss: 0.0053 - precision_2: 0.8065 - recall_2: 0.6714 - val_auc: 0.9114 - val_loss: 0.0044 - val_precision_2: 0.7368 - val_recall_2: 0.7568\n",
            "Epoch 8/100\n",
            "\u001b[1m98/98\u001b[0m \u001b[32m━━━━━━━━━━━━━━━━━━━━\u001b[0m\u001b[37m\u001b[0m \u001b[1m13s\u001b[0m 82ms/step - auc: 0.9423 - loss: 0.0047 - precision_2: 0.8560 - recall_2: 0.7404 - val_auc: 0.9115 - val_loss: 0.0041 - val_precision_2: 0.7273 - val_recall_2: 0.7568\n",
            "Epoch 9/100\n",
            "\u001b[1m98/98\u001b[0m \u001b[32m━━━━━━━━━━━━━━━━━━━━\u001b[0m\u001b[37m\u001b[0m \u001b[1m8s\u001b[0m 58ms/step - auc: 0.9319 - loss: 0.0047 - precision_2: 0.8289 - recall_2: 0.7070 - val_auc: 0.9116 - val_loss: 0.0041 - val_precision_2: 0.7179 - val_recall_2: 0.7568\n",
            "Epoch 10/100\n",
            "\u001b[1m98/98\u001b[0m \u001b[32m━━━━━━━━━━━━━━━━━━━━\u001b[0m\u001b[37m\u001b[0m \u001b[1m8s\u001b[0m 65ms/step - auc: 0.9507 - loss: 0.0039 - precision_2: 0.8715 - recall_2: 0.7600 - val_auc: 0.9116 - val_loss: 0.0041 - val_precision_2: 0.7273 - val_recall_2: 0.7568\n",
            "Epoch 11/100\n",
            "\u001b[1m98/98\u001b[0m \u001b[32m━━━━━━━━━━━━━━━━━━━━\u001b[0m\u001b[37m\u001b[0m \u001b[1m11s\u001b[0m 70ms/step - auc: 0.9311 - loss: 0.0042 - precision_2: 0.7828 - recall_2: 0.7160 - val_auc: 0.9116 - val_loss: 0.0040 - val_precision_2: 0.7368 - val_recall_2: 0.7568\n",
            "Epoch 12/100\n",
            "\u001b[1m98/98\u001b[0m \u001b[32m━━━━━━━━━━━━━━━━━━━━\u001b[0m\u001b[37m\u001b[0m \u001b[1m10s\u001b[0m 64ms/step - auc: 0.9421 - loss: 0.0041 - precision_2: 0.8507 - recall_2: 0.7112 - val_auc: 0.9116 - val_loss: 0.0040 - val_precision_2: 0.7368 - val_recall_2: 0.7568\n",
            "Epoch 13/100\n",
            "\u001b[1m98/98\u001b[0m \u001b[32m━━━━━━━━━━━━━━━━━━━━\u001b[0m\u001b[37m\u001b[0m \u001b[1m9s\u001b[0m 62ms/step - auc: 0.9462 - loss: 0.0034 - precision_2: 0.8559 - recall_2: 0.7627 - val_auc: 0.9117 - val_loss: 0.0040 - val_precision_2: 0.7273 - val_recall_2: 0.7568\n",
            "Epoch 14/100\n",
            "\u001b[1m98/98\u001b[0m \u001b[32m━━━━━━━━━━━━━━━━━━━━\u001b[0m\u001b[37m\u001b[0m \u001b[1m9s\u001b[0m 61ms/step - auc: 0.9519 - loss: 0.0036 - precision_2: 0.8156 - recall_2: 0.7374 - val_auc: 0.9117 - val_loss: 0.0040 - val_precision_2: 0.7308 - val_recall_2: 0.7703\n",
            "Epoch 15/100\n",
            "\u001b[1m98/98\u001b[0m \u001b[32m━━━━━━━━━━━━━━━━━━━━\u001b[0m\u001b[37m\u001b[0m \u001b[1m8s\u001b[0m 61ms/step - auc: 0.9435 - loss: 0.0037 - precision_2: 0.8349 - recall_2: 0.7501 - val_auc: 0.9117 - val_loss: 0.0040 - val_precision_2: 0.7215 - val_recall_2: 0.7703\n",
            "Epoch 16/100\n",
            "\u001b[1m98/98\u001b[0m \u001b[32m━━━━━━━━━━━━━━━━━━━━\u001b[0m\u001b[37m\u001b[0m \u001b[1m8s\u001b[0m 65ms/step - auc: 0.9478 - loss: 0.0035 - precision_2: 0.8353 - recall_2: 0.7774 - val_auc: 0.9117 - val_loss: 0.0041 - val_precision_2: 0.7179 - val_recall_2: 0.7568\n",
            "Epoch 17/100\n",
            "\u001b[1m98/98\u001b[0m \u001b[32m━━━━━━━━━━━━━━━━━━━━\u001b[0m\u001b[37m\u001b[0m \u001b[1m8s\u001b[0m 66ms/step - auc: 0.9548 - loss: 0.0031 - precision_2: 0.7967 - recall_2: 0.7732 - val_auc: 0.9116 - val_loss: 0.0040 - val_precision_2: 0.7215 - val_recall_2: 0.7703\n",
            "Epoch 18/100\n",
            "\u001b[1m98/98\u001b[0m \u001b[32m━━━━━━━━━━━━━━━━━━━━\u001b[0m\u001b[37m\u001b[0m \u001b[1m8s\u001b[0m 64ms/step - auc: 0.9348 - loss: 0.0043 - precision_2: 0.8093 - recall_2: 0.7314 - val_auc: 0.9118 - val_loss: 0.0040 - val_precision_2: 0.7179 - val_recall_2: 0.7568\n",
            "Epoch 19/100\n",
            "\u001b[1m98/98\u001b[0m \u001b[32m━━━━━━━━━━━━━━━━━━━━\u001b[0m\u001b[37m\u001b[0m \u001b[1m8s\u001b[0m 63ms/step - auc: 0.9489 - loss: 0.0028 - precision_2: 0.8080 - recall_2: 0.7877 - val_auc: 0.9117 - val_loss: 0.0040 - val_precision_2: 0.7123 - val_recall_2: 0.7027\n",
            "Epoch 20/100\n",
            "\u001b[1m98/98\u001b[0m \u001b[32m━━━━━━━━━━━━━━━━━━━━\u001b[0m\u001b[37m\u001b[0m \u001b[1m8s\u001b[0m 62ms/step - auc: 0.9466 - loss: 0.0029 - precision_2: 0.8669 - recall_2: 0.8038 - val_auc: 0.9117 - val_loss: 0.0040 - val_precision_2: 0.7160 - val_recall_2: 0.7838\n",
            "Epoch 21/100\n",
            "\u001b[1m98/98\u001b[0m \u001b[32m━━━━━━━━━━━━━━━━━━━━\u001b[0m\u001b[37m\u001b[0m \u001b[1m10s\u001b[0m 61ms/step - auc: 0.9562 - loss: 0.0026 - precision_2: 0.8589 - recall_2: 0.7725 - val_auc: 0.9117 - val_loss: 0.0040 - val_precision_2: 0.7324 - val_recall_2: 0.7027\n",
            "Epoch 22/100\n",
            "\u001b[1m98/98\u001b[0m \u001b[32m━━━━━━━━━━━━━━━━━━━━\u001b[0m\u001b[37m\u001b[0m \u001b[1m10s\u001b[0m 58ms/step - auc: 0.9556 - loss: 0.0035 - precision_2: 0.8862 - recall_2: 0.7455 - val_auc: 0.9118 - val_loss: 0.0040 - val_precision_2: 0.7273 - val_recall_2: 0.7568\n",
            "Epoch 23/100\n",
            "\u001b[1m98/98\u001b[0m \u001b[32m━━━━━━━━━━━━━━━━━━━━\u001b[0m\u001b[37m\u001b[0m \u001b[1m8s\u001b[0m 62ms/step - auc: 0.9695 - loss: 0.0027 - precision_2: 0.8658 - recall_2: 0.7935 - val_auc: 0.9118 - val_loss: 0.0041 - val_precision_2: 0.7903 - val_recall_2: 0.6622\n",
            "Epoch 24/100\n",
            "\u001b[1m98/98\u001b[0m \u001b[32m━━━━━━━━━━━━━━━━━━━━\u001b[0m\u001b[37m\u001b[0m \u001b[1m8s\u001b[0m 68ms/step - auc: 0.9521 - loss: 0.0031 - precision_2: 0.8209 - recall_2: 0.7657 - val_auc: 0.9117 - val_loss: 0.0040 - val_precision_2: 0.7432 - val_recall_2: 0.7432\n",
            "Epoch 25/100\n",
            "\u001b[1m98/98\u001b[0m \u001b[32m━━━━━━━━━━━━━━━━━━━━\u001b[0m\u001b[37m\u001b[0m \u001b[1m8s\u001b[0m 66ms/step - auc: 0.9653 - loss: 0.0025 - precision_2: 0.8791 - recall_2: 0.7892 - val_auc: 0.9117 - val_loss: 0.0040 - val_precision_2: 0.7273 - val_recall_2: 0.7568\n",
            "Epoch 26/100\n",
            "\u001b[1m98/98\u001b[0m \u001b[32m━━━━━━━━━━━━━━━━━━━━\u001b[0m\u001b[37m\u001b[0m \u001b[1m8s\u001b[0m 62ms/step - auc: 0.9644 - loss: 0.0027 - precision_2: 0.8630 - recall_2: 0.7905 - val_auc: 0.9118 - val_loss: 0.0040 - val_precision_2: 0.7639 - val_recall_2: 0.7432\n",
            "Epoch 27/100\n",
            "\u001b[1m98/98\u001b[0m \u001b[32m━━━━━━━━━━━━━━━━━━━━\u001b[0m\u001b[37m\u001b[0m \u001b[1m8s\u001b[0m 63ms/step - auc: 0.9656 - loss: 0.0027 - precision_2: 0.8739 - recall_2: 0.7786 - val_auc: 0.9118 - val_loss: 0.0040 - val_precision_2: 0.7826 - val_recall_2: 0.7297\n",
            "Epoch 28/100\n",
            "\u001b[1m98/98\u001b[0m \u001b[32m━━━━━━━━━━━━━━━━━━━━\u001b[0m\u001b[37m\u001b[0m \u001b[1m8s\u001b[0m 65ms/step - auc: 0.9653 - loss: 0.0029 - precision_2: 0.8014 - recall_2: 0.7651 - val_auc: 0.9118 - val_loss: 0.0040 - val_precision_2: 0.7273 - val_recall_2: 0.7568\n",
            "Epoch 29/100\n",
            "\u001b[1m98/98\u001b[0m \u001b[32m━━━━━━━━━━━━━━━━━━━━\u001b[0m\u001b[37m\u001b[0m \u001b[1m9s\u001b[0m 58ms/step - auc: 0.9454 - loss: 0.0026 - precision_2: 0.8463 - recall_2: 0.7755 - val_auc: 0.9118 - val_loss: 0.0039 - val_precision_2: 0.7432 - val_recall_2: 0.7432\n",
            "Epoch 30/100\n",
            "\u001b[1m98/98\u001b[0m \u001b[32m━━━━━━━━━━━━━━━━━━━━\u001b[0m\u001b[37m\u001b[0m \u001b[1m8s\u001b[0m 59ms/step - auc: 0.9688 - loss: 0.0026 - precision_2: 0.8749 - recall_2: 0.7997 - val_auc: 0.9117 - val_loss: 0.0040 - val_precision_2: 0.7467 - val_recall_2: 0.7568\n",
            "Epoch 31/100\n",
            "\u001b[1m98/98\u001b[0m \u001b[32m━━━━━━━━━━━━━━━━━━━━\u001b[0m\u001b[37m\u001b[0m \u001b[1m9s\u001b[0m 71ms/step - auc: 0.9514 - loss: 0.0030 - precision_2: 0.8774 - recall_2: 0.7658 - val_auc: 0.9118 - val_loss: 0.0040 - val_precision_2: 0.7714 - val_recall_2: 0.7297\n",
            "Epoch 32/100\n",
            "\u001b[1m98/98\u001b[0m \u001b[32m━━━━━━━━━━━━━━━━━━━━\u001b[0m\u001b[37m\u001b[0m \u001b[1m11s\u001b[0m 77ms/step - auc: 0.9720 - loss: 0.0024 - precision_2: 0.8664 - recall_2: 0.7974 - val_auc: 0.9118 - val_loss: 0.0041 - val_precision_2: 0.7463 - val_recall_2: 0.6757\n",
            "Epoch 33/100\n",
            "\u001b[1m98/98\u001b[0m \u001b[32m━━━━━━━━━━━━━━━━━━━━\u001b[0m\u001b[37m\u001b[0m \u001b[1m9s\u001b[0m 73ms/step - auc: 0.9717 - loss: 0.0024 - precision_2: 0.8891 - recall_2: 0.7589 - val_auc: 0.9118 - val_loss: 0.0041 - val_precision_2: 0.7368 - val_recall_2: 0.7568\n",
            "Epoch 34/100\n",
            "\u001b[1m98/98\u001b[0m \u001b[32m━━━━━━━━━━━━━━━━━━━━\u001b[0m\u001b[37m\u001b[0m \u001b[1m8s\u001b[0m 63ms/step - auc: 0.9658 - loss: 0.0025 - precision_2: 0.8121 - recall_2: 0.7823 - val_auc: 0.9117 - val_loss: 0.0040 - val_precision_2: 0.7647 - val_recall_2: 0.7027\n",
            "Epoch 35/100\n",
            "\u001b[1m98/98\u001b[0m \u001b[32m━━━━━━━━━━━━━━━━━━━━\u001b[0m\u001b[37m\u001b[0m \u001b[1m8s\u001b[0m 61ms/step - auc: 0.9584 - loss: 0.0026 - precision_2: 0.8414 - recall_2: 0.7726 - val_auc: 0.9118 - val_loss: 0.0041 - val_precision_2: 0.7639 - val_recall_2: 0.7432\n",
            "Epoch 36/100\n",
            "\u001b[1m98/98\u001b[0m \u001b[32m━━━━━━━━━━━━━━━━━━━━\u001b[0m\u001b[37m\u001b[0m \u001b[1m8s\u001b[0m 54ms/step - auc: 0.9550 - loss: 0.0026 - precision_2: 0.8653 - recall_2: 0.7759 - val_auc: 0.9118 - val_loss: 0.0040 - val_precision_2: 0.7647 - val_recall_2: 0.7027\n",
            "Epoch 37/100\n",
            "\u001b[1m98/98\u001b[0m \u001b[32m━━━━━━━━━━━━━━━━━━━━\u001b[0m\u001b[37m\u001b[0m \u001b[1m8s\u001b[0m 59ms/step - auc: 0.9437 - loss: 0.0026 - precision_2: 0.8458 - recall_2: 0.7805 - val_auc: 0.9185 - val_loss: 0.0040 - val_precision_2: 0.7671 - val_recall_2: 0.7568\n",
            "Epoch 38/100\n",
            "\u001b[1m98/98\u001b[0m \u001b[32m━━━━━━━━━━━━━━━━━━━━\u001b[0m\u001b[37m\u001b[0m \u001b[1m7s\u001b[0m 53ms/step - auc: 0.9761 - loss: 0.0023 - precision_2: 0.8957 - recall_2: 0.7885 - val_auc: 0.9185 - val_loss: 0.0040 - val_precision_2: 0.7647 - val_recall_2: 0.7027\n",
            "Epoch 39/100\n",
            "\u001b[1m98/98\u001b[0m \u001b[32m━━━━━━━━━━━━━━━━━━━━\u001b[0m\u001b[37m\u001b[0m \u001b[1m8s\u001b[0m 62ms/step - auc: 0.9596 - loss: 0.0024 - precision_2: 0.8811 - recall_2: 0.7618 - val_auc: 0.9118 - val_loss: 0.0040 - val_precision_2: 0.7703 - val_recall_2: 0.7703\n",
            "Epoch 40/100\n",
            "\u001b[1m98/98\u001b[0m \u001b[32m━━━━━━━━━━━━━━━━━━━━\u001b[0m\u001b[37m\u001b[0m \u001b[1m6s\u001b[0m 48ms/step - auc: 0.9702 - loss: 0.0025 - precision_2: 0.8747 - recall_2: 0.8335 - val_auc: 0.9118 - val_loss: 0.0041 - val_precision_2: 0.7500 - val_recall_2: 0.7703\n",
            "Epoch 41/100\n",
            "\u001b[1m98/98\u001b[0m \u001b[32m━━━━━━━━━━━━━━━━━━━━\u001b[0m\u001b[37m\u001b[0m \u001b[1m11s\u001b[0m 60ms/step - auc: 0.9802 - loss: 0.0020 - precision_2: 0.8820 - recall_2: 0.8027 - val_auc: 0.9118 - val_loss: 0.0041 - val_precision_2: 0.7808 - val_recall_2: 0.7703\n",
            "Epoch 42/100\n",
            "\u001b[1m98/98\u001b[0m \u001b[32m━━━━━━━━━━━━━━━━━━━━\u001b[0m\u001b[37m\u001b[0m \u001b[1m7s\u001b[0m 51ms/step - auc: 0.9654 - loss: 0.0024 - precision_2: 0.9026 - recall_2: 0.7972 - val_auc: 0.9119 - val_loss: 0.0041 - val_precision_2: 0.8571 - val_recall_2: 0.7297\n",
            "Epoch 43/100\n",
            "\u001b[1m98/98\u001b[0m \u001b[32m━━━━━━━━━━━━━━━━━━━━\u001b[0m\u001b[37m\u001b[0m \u001b[1m8s\u001b[0m 62ms/step - auc: 0.9601 - loss: 0.0022 - precision_2: 0.9166 - recall_2: 0.8025 - val_auc: 0.9117 - val_loss: 0.0041 - val_precision_2: 0.8308 - val_recall_2: 0.7297\n",
            "Epoch 44/100\n",
            "\u001b[1m98/98\u001b[0m \u001b[32m━━━━━━━━━━━━━━━━━━━━\u001b[0m\u001b[37m\u001b[0m \u001b[1m5s\u001b[0m 35ms/step - auc: 0.9766 - loss: 0.0019 - precision_2: 0.8885 - recall_2: 0.8253 - val_auc: 0.9118 - val_loss: 0.0041 - val_precision_2: 0.8116 - val_recall_2: 0.7568\n",
            "Epoch 45/100\n",
            "\u001b[1m98/98\u001b[0m \u001b[32m━━━━━━━━━━━━━━━━━━━━\u001b[0m\u001b[37m\u001b[0m \u001b[1m7s\u001b[0m 55ms/step - auc: 0.9578 - loss: 0.0024 - precision_2: 0.8752 - recall_2: 0.7887 - val_auc: 0.9118 - val_loss: 0.0041 - val_precision_2: 0.8548 - val_recall_2: 0.7162\n",
            "Epoch 46/100\n",
            "\u001b[1m98/98\u001b[0m \u001b[32m━━━━━━━━━━━━━━━━━━━━\u001b[0m\u001b[37m\u001b[0m \u001b[1m10s\u001b[0m 53ms/step - auc: 0.9721 - loss: 0.0023 - precision_2: 0.9049 - recall_2: 0.7689 - val_auc: 0.9117 - val_loss: 0.0041 - val_precision_2: 0.8088 - val_recall_2: 0.7432\n",
            "Epoch 47/100\n",
            "\u001b[1m98/98\u001b[0m \u001b[32m━━━━━━━━━━━━━━━━━━━━\u001b[0m\u001b[37m\u001b[0m \u001b[1m7s\u001b[0m 53ms/step - auc: 0.9746 - loss: 0.0019 - precision_2: 0.8481 - recall_2: 0.8264 - val_auc: 0.9118 - val_loss: 0.0042 - val_precision_2: 0.8088 - val_recall_2: 0.7432\n",
            "Epoch 48/100\n",
            "\u001b[1m98/98\u001b[0m \u001b[32m━━━━━━━━━━━━━━━━━━━━\u001b[0m\u001b[37m\u001b[0m \u001b[1m6s\u001b[0m 35ms/step - auc: 0.9831 - loss: 0.0018 - precision_2: 0.9066 - recall_2: 0.8028 - val_auc: 0.9117 - val_loss: 0.0043 - val_precision_2: 0.7500 - val_recall_2: 0.7703\n"
          ]
        }
      ]
    },
    {
      "cell_type": "code",
      "source": [
        "y_pred_proba = model.predict(dict(X_test)).ravel()\n",
        "y_pred = (y_pred_proba >= 0.5).astype(int)"
      ],
      "metadata": {
        "colab": {
          "base_uri": "https://localhost:8080/"
        },
        "id": "9vyKl2d1vTzi",
        "outputId": "5a024e61-bfcd-4a3d-f1f9-5f6a0be9c14c"
      },
      "execution_count": 35,
      "outputs": [
        {
          "output_type": "stream",
          "name": "stdout",
          "text": [
            "\u001b[1m1336/1336\u001b[0m \u001b[32m━━━━━━━━━━━━━━━━━━━━\u001b[0m\u001b[37m\u001b[0m \u001b[1m3s\u001b[0m 2ms/step\n"
          ]
        }
      ]
    },
    {
      "cell_type": "code",
      "source": [
        "print(\"ROC AUC Score:\", roc_auc_score(y_test, y_pred_proba))"
      ],
      "metadata": {
        "colab": {
          "base_uri": "https://localhost:8080/"
        },
        "id": "vxV-e0CEvZYH",
        "outputId": "80569876-2afb-489b-e6ea-48858c6f5b6f"
      },
      "execution_count": 37,
      "outputs": [
        {
          "output_type": "stream",
          "name": "stdout",
          "text": [
            "ROC AUC Score: 0.9717153492828788\n"
          ]
        }
      ]
    },
    {
      "cell_type": "code",
      "source": [
        "print(classification_report(y_test, y_pred))"
      ],
      "metadata": {
        "colab": {
          "base_uri": "https://localhost:8080/"
        },
        "id": "wmKOKCGCvccp",
        "outputId": "35467c94-1860-4862-edfc-5bac19dea0c5"
      },
      "execution_count": 38,
      "outputs": [
        {
          "output_type": "stream",
          "name": "stdout",
          "text": [
            "              precision    recall  f1-score   support\n",
            "\n",
            "           0       1.00      1.00      1.00     42648\n",
            "           1       0.92      0.77      0.84        74\n",
            "\n",
            "    accuracy                           1.00     42722\n",
            "   macro avg       0.96      0.89      0.92     42722\n",
            "weighted avg       1.00      1.00      1.00     42722\n",
            "\n"
          ]
        }
      ]
    },
    {
      "cell_type": "code",
      "source": [
        "cm = confusion_matrix(y_test, y_pred)\n",
        "sns.heatmap(cm, annot=True, fmt='d', cmap='Blues')\n",
        "plt.xlabel(\"Predicted\")\n",
        "plt.ylabel(\"Actual\")\n",
        "plt.title(\"Confusion Matrix\")\n",
        "plt.show()"
      ],
      "metadata": {
        "colab": {
          "base_uri": "https://localhost:8080/",
          "height": 472
        },
        "id": "tHKs9atEvc3c",
        "outputId": "44439f21-3249-4b33-b7b9-d5ae8ca3149d"
      },
      "execution_count": 39,
      "outputs": [
        {
          "output_type": "display_data",
          "data": {
            "text/plain": [
              "<Figure size 640x480 with 2 Axes>"
            ],
            "image/png": "[encoded data removed]"
          },
          "metadata": {}
        }
      ]
    }
  ]
}